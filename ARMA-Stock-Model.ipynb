{
 "cells": [
  {
   "cell_type": "markdown",
   "metadata": {},
   "source": [
    "# AutoRegression MovingAverage Model on Stock Prices"
   ]
  },
  {
   "cell_type": "markdown",
   "metadata": {},
   "source": [
    "### Imports"
   ]
  },
  {
   "cell_type": "code",
   "execution_count": null,
   "metadata": {},
   "outputs": [],
   "source": [
    "import pandas as pd\n",
    "import numpy as np\n",
    "import itertools\n",
    "from statsmodels.tsa.stattools import adfuller\n",
    "from statsmodels.graphics.tsaplots import plot_acf, plot_pacf\n",
    "from statsmodels.tsa.arima_model import ARMA\n",
    "import matplotlib.pyplot as plt\n",
    "from sklearn.preprocessing import MinMaxScaler\n",
    "from datetime import datetime, timedelta \n",
    "from tqdm import tqdm_notebook as tqdm\n",
    "plt.style.use('bmh')"
   ]
  },
  {
   "cell_type": "code",
   "execution_count": null,
   "metadata": {
    "scrolled": true
   },
   "outputs": [],
   "source": [
    "df = pd.read_csv('SPY.csv')\n",
    "\n",
    "df"
   ]
  },
  {
   "cell_type": "markdown",
   "metadata": {},
   "source": [
    "## Preprocessing Data"
   ]
  },
  {
   "cell_type": "markdown",
   "metadata": {},
   "source": [
    "### Datetime Conversion"
   ]
  },
  {
   "cell_type": "code",
   "execution_count": null,
   "metadata": {},
   "outputs": [],
   "source": [
    "# Datetime conversion\n",
    "df['Date'] = pd.to_datetime(df.Date)\n",
    "\n",
    "# Setting the index\n",
    "df.set_index('Date', inplace=True)\n",
    "\n",
    "# Dropping any NaNs\n",
    "df.dropna(inplace=True)"
   ]
  },
  {
   "cell_type": "code",
   "execution_count": null,
   "metadata": {
    "scrolled": true
   },
   "outputs": [],
   "source": [
    "df[['Close']]"
   ]
  },
  {
   "cell_type": "markdown",
   "metadata": {},
   "source": [
    "### Scaling"
   ]
  },
  {
   "cell_type": "code",
   "execution_count": null,
   "metadata": {},
   "outputs": [],
   "source": [
    "scaler = MinMaxScaler()\n",
    "\n",
    "# Scaling and Dropping other columns besides Close\n",
    "df = pd.DataFrame(scaler.fit_transform(df[['Close']]),\n",
    "                  index=df.index,\n",
    "                  columns=df[['Close']].columns)"
   ]
  },
  {
   "cell_type": "markdown",
   "metadata": {},
   "source": [
    "## Visualizing the Data"
   ]
  },
  {
   "cell_type": "code",
   "execution_count": null,
   "metadata": {},
   "outputs": [],
   "source": [
    "df.plot(figsize=(17,8), title='Closing Prices');"
   ]
  },
  {
   "cell_type": "markdown",
   "metadata": {},
   "source": [
    "## Detrending"
   ]
  },
  {
   "cell_type": "markdown",
   "metadata": {},
   "source": [
    "### Differencing the Data"
   ]
  },
  {
   "cell_type": "code",
   "execution_count": null,
   "metadata": {},
   "outputs": [],
   "source": [
    "# Differencing\n",
    "df_diff = df.diff(1).dropna()\n",
    "\n",
    "# Plotting\n",
    "df_diff.plot(figsize=(16,4), title=\"Daily Changes in Closing Price\")\n",
    "plt.ylabel(\"Change in USD\")\n",
    "plt.show()\n",
    "\n",
    "# Stationarity Testing\n",
    "results = adfuller(df_diff.iloc[:,0].values)\n",
    "print(f\"Testing for Stationarity\\n\\tP-value: {results[1]}\")"
   ]
  },
  {
   "cell_type": "markdown",
   "metadata": {},
   "source": [
    "### ACF and PACF"
   ]
  },
  {
   "cell_type": "code",
   "execution_count": null,
   "metadata": {},
   "outputs": [],
   "source": [
    "fig, (ax1, ax2) = plt.subplots(2,1,figsize=(16,8))\n",
    "plot_acf(df_diff, ax=ax1, lags=40)\n",
    "plot_pacf(df_diff, ax=ax2, lags=40)\n",
    "plt.show()"
   ]
  },
  {
   "cell_type": "markdown",
   "metadata": {},
   "source": [
    "## Parameter Search\n",
    "Using a function to find the best parameters for the ARMA model"
   ]
  },
  {
   "cell_type": "code",
   "execution_count": null,
   "metadata": {},
   "outputs": [],
   "source": [
    "# Assigning variables to the p and q values\n",
    "p = q = range(0,5)\n",
    "\n",
    "# Finding all possible combinations of p and q\n",
    "pq = list(itertools.product(p, q))\n",
    "\n",
    "\n",
    "def param_search(model, data, pq):\n",
    "    \"\"\"\n",
    "    Loops through each iteration of the model and returns the best performing parameter\n",
    "    \"\"\"\n",
    "    \n",
    "    # Empty dictionary containing the combination and AIC score\n",
    "    lst = []\n",
    "    \n",
    "    # Loop to find the best combination\n",
    "    for comb in tqdm(pq):\n",
    "        try:\n",
    "            # Instantiating the model\n",
    "            mod = model(data,\n",
    "                        order=comb)\n",
    "            \n",
    "            # Fitting the model\n",
    "            output = mod.fit()\n",
    "            \n",
    "            # Appending to the list\n",
    "            lst.append([comb, output.aic])\n",
    "        \n",
    "        except:\n",
    "            continue\n",
    "            \n",
    "    # Sorting the list\n",
    "    lst = sorted(lst, key=lambda i: i[1])\n",
    "    \n",
    "    # Returning the combination with the lowest score\n",
    "    return lst[0]"
   ]
  },
  {
   "cell_type": "markdown",
   "metadata": {},
   "source": [
    "## Modeling"
   ]
  },
  {
   "cell_type": "markdown",
   "metadata": {},
   "source": [
    "#### Train, Test, Splitting"
   ]
  },
  {
   "cell_type": "code",
   "execution_count": null,
   "metadata": {},
   "outputs": [],
   "source": [
    "# Splitting 80/20\n",
    "index = round(len(df)*.80)\n",
    "\n",
    "train = df.iloc[:index]\n",
    "test = df.iloc[index:]"
   ]
  },
  {
   "cell_type": "code",
   "execution_count": null,
   "metadata": {
    "scrolled": true
   },
   "outputs": [],
   "source": [
    "best_parameter = param_search(ARMA, train, pq)\n",
    "\n",
    "print(\"Best p, q combination:\", best_parameter[0])"
   ]
  },
  {
   "cell_type": "markdown",
   "metadata": {},
   "source": [
    "### Fitting the Model"
   ]
  },
  {
   "cell_type": "code",
   "execution_count": null,
   "metadata": {},
   "outputs": [],
   "source": [
    "model = ARMA(train,\n",
    "             order=best_parameter[0])\n",
    "\n",
    "\n",
    "output = model.fit()"
   ]
  },
  {
   "cell_type": "markdown",
   "metadata": {},
   "source": [
    "### Summary and Diagnostics"
   ]
  },
  {
   "cell_type": "code",
   "execution_count": null,
   "metadata": {},
   "outputs": [],
   "source": [
    "print(output.summary())"
   ]
  },
  {
   "cell_type": "markdown",
   "metadata": {},
   "source": [
    "### Forecasting"
   ]
  },
  {
   "cell_type": "code",
   "execution_count": null,
   "metadata": {},
   "outputs": [],
   "source": [
    "# Getting Forecast and Confidence Intervals\n",
    "forecast = output.forecast(len(test))\n",
    "fc       = forecast[0]\n",
    "conf     = forecast[-1]\n",
    "\n",
    "# Putting the Data into a Pandas Series\n",
    "fc_series = pd.Series(fc, index=test.index)\n",
    "up_conf   = pd.Series(conf[:, 0], index=test.index)\n",
    "low_conf  = pd.Series(conf[:, 1], index=test.index)"
   ]
  },
  {
   "cell_type": "markdown",
   "metadata": {},
   "source": [
    "### Validating"
   ]
  },
  {
   "cell_type": "code",
   "execution_count": null,
   "metadata": {},
   "outputs": [],
   "source": [
    "predictions = output.predict(start=1, end=len(train))\n",
    "\n",
    "preds = pd.Series(predictions.values, index=train.index)"
   ]
  },
  {
   "cell_type": "markdown",
   "metadata": {},
   "source": [
    "### Plotting"
   ]
  },
  {
   "cell_type": "code",
   "execution_count": null,
   "metadata": {},
   "outputs": [],
   "source": [
    "plt.figure(figsize=(17,6))\n",
    "\n",
    "# Forecast plot\n",
    "plt.plot(fc_series, label='Forecast')\n",
    "# Confidence Interval shaded\n",
    "plt.fill_between(low_conf.index, low_conf, up_conf, color='k', alpha=.15)\n",
    "# Predictions against Training data\n",
    "plt.plot(preds, label='Predictions', alpha=.5)\n",
    "\n",
    "# Train and Test Plot\n",
    "plt.plot(test, label='Test')\n",
    "plt.plot(train, label='Train', alpha=.5)\n",
    "\n",
    "# Plotting\n",
    "plt.legend()\n",
    "plt.show()"
   ]
  },
  {
   "cell_type": "markdown",
   "metadata": {},
   "source": [
    "## Future Modeling"
   ]
  },
  {
   "cell_type": "markdown",
   "metadata": {},
   "source": [
    "### Finding the Best Parameters for the Entire Dataset"
   ]
  },
  {
   "cell_type": "code",
   "execution_count": null,
   "metadata": {
    "scrolled": true
   },
   "outputs": [],
   "source": [
    "# Searching for the optimum parameters\n",
    "best_param = param_search(ARMA, df, pq)\n",
    "\n",
    "print(\"Best p, q combination for the entire dataset:\", best_parameter[0])"
   ]
  },
  {
   "cell_type": "markdown",
   "metadata": {},
   "source": [
    "### Fitting the Model to the Entire Dataset"
   ]
  },
  {
   "cell_type": "code",
   "execution_count": null,
   "metadata": {},
   "outputs": [],
   "source": [
    "model = ARMA(df,\n",
    "             order=best_param[0])\n",
    "\n",
    "\n",
    "output = model.fit()"
   ]
  },
  {
   "cell_type": "markdown",
   "metadata": {},
   "source": [
    "### Summary and Diagnostics"
   ]
  },
  {
   "cell_type": "code",
   "execution_count": null,
   "metadata": {},
   "outputs": [],
   "source": [
    "print(output.summary())"
   ]
  },
  {
   "cell_type": "markdown",
   "metadata": {},
   "source": [
    "### Forecasting the Future"
   ]
  },
  {
   "cell_type": "code",
   "execution_count": null,
   "metadata": {},
   "outputs": [],
   "source": [
    "# Number of Periods to forecast\n",
    "periods = 90\n",
    "\n",
    "# Getting Forecast and Confidence Intervals\n",
    "forecast = output.forecast(periods)\n",
    "fc       = forecast[0].reshape(-1,1)\n",
    "conf     = forecast[-1]\n",
    "\n",
    "# Putting the Data into a Pandas Series\n",
    "fc_series = pd.DataFrame(scaler.inverse_transform(fc), \n",
    "                         index=pd.date_range(start=df.index[-1]+timedelta(days=1), periods=periods, freq=\"B\"))\n",
    "\n",
    "up_conf   = pd.DataFrame(scaler.inverse_transform(conf[:, 0].reshape(-1,1)), \n",
    "                         index=pd.date_range(start=df.index[-1]+timedelta(days=1), periods=periods, freq=\"B\"))\n",
    "\n",
    "low_conf  = pd.DataFrame(scaler.inverse_transform(conf[:, 1].reshape(-1,1)), \n",
    "                         index=pd.date_range(start=df.index[-1]+timedelta(days=1), periods=periods, freq=\"B\"))\n",
    "\n",
    "# Unscaling the DF\n",
    "df = pd.DataFrame(scaler.inverse_transform(df).reshape(1,-1)[0],\n",
    "                  index=df.index)"
   ]
  },
  {
   "cell_type": "markdown",
   "metadata": {},
   "source": [
    "### Plotting the Forecast"
   ]
  },
  {
   "cell_type": "code",
   "execution_count": null,
   "metadata": {},
   "outputs": [],
   "source": [
    "plt.figure(figsize=(17,6))\n",
    "\n",
    "# Forecast plot\n",
    "plt.plot(fc_series, label='Forecast')\n",
    "# Confidence Interval shaded\n",
    "plt.fill_between(low_conf.index, low_conf[0], up_conf[0], color='k', alpha=.15)\n",
    "\n",
    "# Plotting the Real Values\n",
    "plt.plot(df, label=\"Real Values\")\n",
    "\n",
    "# Plotting\n",
    "plt.legend()\n",
    "plt.show()"
   ]
  },
  {
   "cell_type": "markdown",
   "metadata": {},
   "source": [
    "### Zooming In on the Forecast"
   ]
  },
  {
   "cell_type": "code",
   "execution_count": null,
   "metadata": {},
   "outputs": [],
   "source": [
    "plt.figure(figsize=(17,6))\n",
    "\n",
    "# Forecast plot\n",
    "plt.plot(fc_series, label='Forecast')\n",
    "# Confidence Interval shaded\n",
    "plt.fill_between(low_conf.index, low_conf[0], up_conf[0], color='k', alpha=.15)\n",
    "\n",
    "# Plotting the Real Values\n",
    "plt.plot(df, label=\"Real Values\")\n",
    "\n",
    "# Zooming In\n",
    "plt.xlim(\"2020\", \"2020-10\")\n",
    "\n",
    "# Plotting\n",
    "plt.legend()\n",
    "plt.show()"
   ]
  },
  {
   "cell_type": "markdown",
   "metadata": {},
   "source": [
    "## Trading the Model\n",
    "Create a simple trading algorithm based on the model's predictions."
   ]
  },
  {
   "cell_type": "code",
   "execution_count": null,
   "metadata": {
    "scrolled": true
   },
   "outputs": [],
   "source": [
    "df.rename(columns={0:'Close'}, inplace=True)"
   ]
  },
  {
   "cell_type": "code",
   "execution_count": null,
   "metadata": {},
   "outputs": [],
   "source": [
    "df['DailyReturns'] = df.pct_change()"
   ]
  },
  {
   "cell_type": "code",
   "execution_count": null,
   "metadata": {
    "scrolled": true
   },
   "outputs": [],
   "source": [
    "df"
   ]
  },
  {
   "cell_type": "code",
   "execution_count": null,
   "metadata": {},
   "outputs": [],
   "source": [
    "cash = 1000\n",
    "\n",
    "balance = []\n",
    "\n",
    "for i in range(len(df.Close)):\n",
    "    if i == 0:\n",
    "        balance.append(df.Close[i] * (cash // df.Close[i]))\n",
    "    else:\n",
    "        balance.append((df.DailyReturns[i]+1) * balance[i-1])"
   ]
  },
  {
   "cell_type": "code",
   "execution_count": null,
   "metadata": {},
   "outputs": [],
   "source": [
    "df['CashBalance'] = balance"
   ]
  },
  {
   "cell_type": "code",
   "execution_count": null,
   "metadata": {},
   "outputs": [],
   "source": [
    "df.CashBalance.plot()"
   ]
  },
  {
   "cell_type": "markdown",
   "metadata": {},
   "source": [
    "### Run the ARMA model for predictions over a timeframe that constantly is added to or slides"
   ]
  },
  {
   "cell_type": "code",
   "execution_count": null,
   "metadata": {},
   "outputs": [],
   "source": [
    "def validater(n_per_in, n_per_out):\n",
    "    \"\"\"\n",
    "    Runs a 'For' loop to iterate through the length of the DF and create predicted values for every stated interval\n",
    "    Returns a DF containing the predicted values for the model with the corresponding index values based on a business day frequency\n",
    "    \"\"\"\n",
    "    \n",
    "    # Creating an empty DF to store the predictions\n",
    "    predictions = pd.DataFrame(index=df.index, columns=[df.columns[0]])\n",
    "\n",
    "    for i in range(1, len(df)-n_per_in, n_per_out):\n",
    "        # Creating rolling intervals to predict off of\n",
    "        x = df[-i - n_per_in:-i]\n",
    "\n",
    "        # Predicting using rolling intervals\n",
    "        yhat = model.predict(np.array(x).reshape(1, n_per_in, n_features))\n",
    "\n",
    "        # Transforming values back to their normal prices\n",
    "        yhat = close_scaler.inverse_transform(yhat)[0]\n",
    "\n",
    "        # DF to store the values and append later, frequency uses business days\n",
    "        pred_df = pd.DataFrame(yhat, \n",
    "                               index=pd.date_range(start=x.index[-1]+timedelta(days=1), \n",
    "                                                   periods=len(yhat), \n",
    "                                                   freq=\"B\"),\n",
    "                               columns=[x.columns[0]])\n",
    "\n",
    "        # Updating the predictions DF\n",
    "        predictions.update(pred_df)\n",
    "        \n",
    "    return predictions"
   ]
  },
  {
   "cell_type": "code",
   "execution_count": null,
   "metadata": {},
   "outputs": [],
   "source": [
    "# Days to predict in the future\n",
    "pred_periods = 5\n",
    "\n",
    "# List containing predicted prices\n",
    "pred_prices = pd.DataFrame(index=df.index)\n",
    "\n",
    "# Assigning variables to the p and q values\n",
    "p = q = range(0,5)\n",
    "\n",
    "# Finding all possible combinations of p and q\n",
    "pq = list(itertools.product(p, q))\n",
    "\n",
    "# How many periods in the past to use to make the prediction\n",
    "past_periods = 300\n",
    "\n",
    "for i in tqdm(range(0, len(df.Close)-pred_periods)):\n",
    "    \n",
    "    # Skipping the first 300 prices\n",
    "    if i < 300:\n",
    "        continue       \n",
    "        \n",
    "    else:\n",
    "        # Instantiating the series to predict\n",
    "        x = df.Close[i:i+past_periods]\n",
    "        \n",
    "        # Finding the best parameters so far\n",
    "        best_param = param_search(ARMA, x, pq)\n",
    "\n",
    "        # Fitting the model\n",
    "        model = ARMA(x, order=best_param[0])\n",
    "\n",
    "        output = model.fit()\n",
    "        \n",
    "        # Getting and appending predictions\n",
    "        predictions = output.forecast(pred_periods)\n",
    "        \n",
    "        # Creating a DF that contains the predictions\n",
    "        pred_df = pd.DataFrame(predictions,\n",
    "                               index=pd.date_range(start=x.index[-1]+timedelta(days=1),\n",
    "                                                   periods=len(predictions),\n",
    "                                                   freq='B'))\n",
    "        \n",
    "        # Updating the DF\n",
    "        pred_prices.update(pred_df)"
   ]
  },
  {
   "cell_type": "code",
   "execution_count": null,
   "metadata": {},
   "outputs": [],
   "source": []
  },
  {
   "cell_type": "code",
   "execution_count": null,
   "metadata": {},
   "outputs": [],
   "source": []
  },
  {
   "cell_type": "code",
   "execution_count": null,
   "metadata": {},
   "outputs": [],
   "source": []
  }
 ],
 "metadata": {
  "kernelspec": {
   "display_name": "Python 3",
   "language": "python",
   "name": "python3"
  },
  "language_info": {
   "codemirror_mode": {
    "name": "ipython",
    "version": 3
   },
   "file_extension": ".py",
   "mimetype": "text/x-python",
   "name": "python",
   "nbconvert_exporter": "python",
   "pygments_lexer": "ipython3",
   "version": "3.7.3"
  }
 },
 "nbformat": 4,
 "nbformat_minor": 2
}
